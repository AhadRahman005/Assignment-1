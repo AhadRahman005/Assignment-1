{
  "nbformat": 4,
  "nbformat_minor": 0,
  "metadata": {
    "colab": {
      "provenance": [],
      "authorship_tag": "ABX9TyOrCtSYcNIpKEAnZZAqBOaw",
      "include_colab_link": true
    },
    "kernelspec": {
      "name": "python3",
      "display_name": "Python 3"
    },
    "language_info": {
      "name": "python"
    }
  },
  "cells": [
    {
      "cell_type": "markdown",
      "metadata": {
        "id": "view-in-github",
        "colab_type": "text"
      },
      "source": [
        "<a href=\"https://colab.research.google.com/github/AhadRahman005/Assignment-1/blob/main/Assignment_1_20229005.ipynb\" target=\"_parent\"><img src=\"https://colab.research.google.com/assets/colab-badge.svg\" alt=\"Open In Colab\"/></a>"
      ]
    },
    {
      "cell_type": "markdown",
      "source": [
        "A.F.S. Ahad Rahman Khan\n",
        "ID: 20229005"
      ],
      "metadata": {
        "id": "Rba0zY7ddE-4"
      }
    },
    {
      "cell_type": "markdown",
      "source": [
        "***Question 1: Write a Python program to count the number of characters (character frequency) ***"
      ],
      "metadata": {
        "id": "VPnRJjjdC1i-"
      }
    },
    {
      "cell_type": "code",
      "source": [
        "string = input ('Count character frequency of this string :')\n",
        "frequency = {}\n",
        "for character in string:\n",
        "  if character in frequency:\n",
        "   frequency[character]+=1\n",
        "  else:\n",
        "    frequency[character]=1\n",
        "print(frequency)\n"
      ],
      "metadata": {
        "colab": {
          "base_uri": "https://localhost:8080/"
        },
        "id": "V1wU6uavC-YO",
        "outputId": "fb5d61d4-ee2c-4506-cb6b-cef5cab979b4"
      },
      "execution_count": null,
      "outputs": [
        {
          "output_type": "stream",
          "name": "stdout",
          "text": [
            "Count character frequency of this string :google.com\n",
            "{'g': 2, 'o': 3, 'l': 1, 'e': 1, '.': 1, 'c': 1, 'm': 1}\n"
          ]
        }
      ]
    },
    {
      "cell_type": "markdown",
      "source": [
        "**Question 2: Write a Python program to check if a given key already  exists in a dictionary.** "
      ],
      "metadata": {
        "id": "quCJKNhCGTvp"
      }
    },
    {
      "cell_type": "code",
      "source": [
        "win = {'Bangladesh': 2, 'India': 5, 'Pakistan' : 1 } \n",
        "key = input('Enter name of a country:')\n",
        "if key in win:                                 #checking if the given key is in the dictionary\n",
        "  print('matches won by', key, 'is known')   \n",
        "else:\n",
        "  print ('matches won by', key, 'is unknown')"
      ],
      "metadata": {
        "colab": {
          "base_uri": "https://localhost:8080/"
        },
        "id": "aUrwb9yhGiwp",
        "outputId": "d810f79c-2207-4cbe-d32b-f76a8b49b837"
      },
      "execution_count": null,
      "outputs": [
        {
          "output_type": "stream",
          "name": "stdout",
          "text": [
            "Enter name of a country:Australia\n",
            "matches won by Australia is unknown\n"
          ]
        }
      ]
    },
    {
      "cell_type": "markdown",
      "source": [
        "**Question 3:  Write a Python program that accepts a sequence of comma-separated numbers from the user and generates a list and a tuple of those numbers.**"
      ],
      "metadata": {
        "id": "HkTsSpHAYGt5"
      }
    },
    {
      "cell_type": "code",
      "source": [
        "user_entry = input(\"Write some comma seperated numbers : \")\n",
        "list = user_entry.split(\",\")    #Input string is split by \",\" and automatically creating a list.\n",
        "tuple = tuple(list)             # The list is now converted using tuple() function to tuple.\n",
        "\n",
        "print(\"Generated list from the entries: \", list)\n",
        "print(\"Generated tuple from the entries: \", tuple)\n"
      ],
      "metadata": {
        "colab": {
          "base_uri": "https://localhost:8080/"
        },
        "id": "Xqhq_QuJYPCV",
        "outputId": "76e05910-a02b-4de4-9576-034e543295f4"
      },
      "execution_count": null,
      "outputs": [
        {
          "output_type": "stream",
          "name": "stdout",
          "text": [
            "Write some comma seperated numbers : 55,62,87,91,132\n",
            "Generated list from the entries:  ['55', '62', '87', '91', '132']\n",
            "Generated tuple from the entries:  ('55', '62', '87', '91', '132')\n"
          ]
        }
      ]
    },
    {
      "cell_type": "markdown",
      "source": [
        "**Question 4: Write a Python program to calculate the number of days between two dates**"
      ],
      "metadata": {
        "id": "jPR530KeaJBU"
      }
    },
    {
      "cell_type": "code",
      "source": [
        "from datetime import date\n",
        "\n",
        "date_entry1 = input(\"Input your 1st date as Year-Month-Day: \")\n",
        "year1_splitted, month1_splitted, day1_splitted = date_entry1.split(\"-\")\n",
        "year1 = int(year1_splitted)\n",
        "month1 = int(month1_splitted)\n",
        "day1 = int(day1_splitted)\n",
        "      #we can also use map()function to comprehend the code.\n",
        "      #the code will be: year1, month1, day1 = map(int,date_entry1.split(\"-\") )\n",
        "      #this will split the date_entry1 by \"-\", convert them into integer and map them into year1, month1 and day1. \n",
        "date1 = date(year1,month1,day1)\n",
        "      \n",
        "\n",
        "date_entry2 = input(\"Input your 2nd date as Year-Month-Day: \")\n",
        "year2_splitted, month2_splitted, day2_splitted = date_entry2.split(\"-\")\n",
        "year2 = int(year2_splitted)\n",
        "month2 = int(month2_splitted)\n",
        "day2 = int(day2_splitted)\n",
        "date2 = date(year2,month2,day2)\n",
        "\n",
        "difference = date1 - date2\n",
        "number_of_days = abs(difference.days)\n",
        "\n",
        "print(\"Number of days between\", date1, \"and\", date2, \"are\", number_of_days, \"days\")\n"
      ],
      "metadata": {
        "colab": {
          "base_uri": "https://localhost:8080/"
        },
        "id": "NoJMG-o1aPfa",
        "outputId": "a825692b-07e9-4db5-baae-1e635dde24b0"
      },
      "execution_count": null,
      "outputs": [
        {
          "output_type": "stream",
          "name": "stdout",
          "text": [
            "Input your 1st date as Year-Month-Day: 2014-7-2\n",
            "Input your 2nd date as Year-Month-Day: 2014-7-11\n",
            "Number of days between 2014-07-02 and 2014-07-11 are 9 days\n"
          ]
        }
      ]
    },
    {
      "cell_type": "markdown",
      "source": [
        " **Question 5: Write a Python program to solve (x + y) * (x + y)**"
      ],
      "metadata": {
        "id": "0-Hs4SfvhKUR"
      }
    },
    {
      "cell_type": "code",
      "source": [
        "x = int(input(\"x = \"))\n",
        "y = int(input(\"y = \"))\n",
        "\n",
        "output = (x+y) * (x+y)\n",
        "\n",
        "print(\" ( \",x, '+' ,y, \" ) ^ 2 = \", output)"
      ],
      "metadata": {
        "colab": {
          "base_uri": "https://localhost:8080/"
        },
        "id": "SNuXqyDhg7n1",
        "outputId": "152cbb99-3ff1-44c9-9cac-3ee46532cc36"
      },
      "execution_count": null,
      "outputs": [
        {
          "output_type": "stream",
          "name": "stdout",
          "text": [
            "x = 4\n",
            "y = 3\n",
            " (  4 + 3  ) ^ 2 =  49\n"
          ]
        }
      ]
    },
    {
      "cell_type": "markdown",
      "source": [
        "**Question 6: Write a Python program to compute the future value of a specified principal amount, rate of interest, and number of years.**"
      ],
      "metadata": {
        "id": "N6O9VPgfD8Od"
      }
    },
    {
      "cell_type": "code",
      "source": [
        "amt = 10000           #If we write like amt = 10000, interest = 3.5, ....it will create a tuple due to use of \",\" after the variable assignment.\n",
        "interest = 3.5 \n",
        "years = 7\n",
        "\n",
        "future_amount = amt*(1+(interest/100))**years\n",
        "\n",
        "print(future_amount)"
      ],
      "metadata": {
        "colab": {
          "base_uri": "https://localhost:8080/"
        },
        "id": "MWMWq373EffI",
        "outputId": "69b41d9f-4f1e-4aa2-b3be-9674fd03cb33"
      },
      "execution_count": null,
      "outputs": [
        {
          "output_type": "stream",
          "name": "stdout",
          "text": [
            "12722.792627665729\n"
          ]
        }
      ]
    },
    {
      "cell_type": "markdown",
      "source": [
        "**Question 7: Write a Python program that removes duplicate elements from a given array of numbers so that each element appears only once and returns the new length.**"
      ],
      "metadata": {
        "id": "c5KfpEDVGr_8"
      }
    },
    {
      "cell_type": "code",
      "source": [
        "sample_input = [0, 0,1,1,2,2,3,3,4,4,4]\n",
        "list_of_samples = list(set(sample_input))\n",
        "length = len(list_of_samples)\n",
        "\n",
        "print(\"The list of unique numbers: \",list_of_samples )\n",
        "print(\"Length of the unique list: \",length )"
      ],
      "metadata": {
        "colab": {
          "base_uri": "https://localhost:8080/"
        },
        "id": "6IVGg0YYGara",
        "outputId": "b762f916-870d-4bca-8bfe-be1be0a2d4b6"
      },
      "execution_count": null,
      "outputs": [
        {
          "output_type": "stream",
          "name": "stdout",
          "text": [
            "The list of unique numbers:  [0, 1, 2, 3, 4]\n",
            "Length of the unique list:  5\n"
          ]
        }
      ]
    },
    {
      "cell_type": "code",
      "source": [],
      "metadata": {
        "id": "crSzJBDNIToS"
      },
      "execution_count": null,
      "outputs": []
    },
    {
      "cell_type": "markdown",
      "source": [
        "**Question 8: Write a Python program to sort (ascending and descending) a dictionary by key value.**"
      ],
      "metadata": {
        "id": "XEFugF_tIXHl"
      }
    },
    {
      "cell_type": "code",
      "source": [
        "# Create an empty dictionary\n",
        "my_pets = {}\n",
        "\n",
        "# Prompt the user for input and store it in key-value pairs\n",
        "for i in range(4):\n",
        "    key = input(\"Enter a key: \")\n",
        "    value = input(\"Enter a value: \")\n",
        "    my_dict[key] = value\n",
        "\n",
        "# Print the resulting dictionary\n",
        "print(\"Dictionary of my pets = \", my_dict)\n",
        "\n",
        "asc_dict = dict(sorted(my_dict.items()))\n",
        "dis_dict = dict(sorted(my_dict.items(), reverse = True))\n",
        "\n",
        "print(\"Dictionary of my pets sorted by ascending alphabetic order = \", asc_dict)\n",
        "print(\"Dictionary of my pets sorted by discending alphabetic order = \", dis_dict)\n"
      ],
      "metadata": {
        "colab": {
          "base_uri": "https://localhost:8080/"
        },
        "id": "bDqkgPyQFpQe",
        "outputId": "30cb076a-d0b5-45c1-d2d7-9b61363d4ff0"
      },
      "execution_count": null,
      "outputs": [
        {
          "output_type": "stream",
          "name": "stdout",
          "text": [
            "Enter a key: cat\n",
            "Enter a value: 3\n",
            "Enter a key: dog\n",
            "Enter a value: 1\n",
            "Enter a key: bird\n",
            "Enter a value: 7\n",
            "Enter a key: fish\n",
            "Enter a value: 5\n",
            "Dictionary of my pets =  {'cat': '3', 'dog': '1', 'bird': '7', 'fish': '5'}\n",
            "Dictionary of my pets sorted by ascending alphabetic order =  {'bird': '7', 'cat': '3', 'dog': '1', 'fish': '5'}\n",
            "Dictionary of my pets sorted by discending alphabetic order =  {'fish': '5', 'dog': '1', 'cat': '3', 'bird': '7'}\n"
          ]
        }
      ]
    },
    {
      "cell_type": "markdown",
      "source": [
        "**9. Write a Python program to add key to a dictionary.**"
      ],
      "metadata": {
        "id": "qX60M917apBy"
      }
    },
    {
      "cell_type": "code",
      "source": [
        "sample = {0:10, 1:20}\n",
        "sample[2] = 30\n",
        "\n",
        "print(sample)"
      ],
      "metadata": {
        "colab": {
          "base_uri": "https://localhost:8080/"
        },
        "id": "YzjlnKI8Yojr",
        "outputId": "deaec598-fe5e-4ce5-cdc7-048d18852d70"
      },
      "execution_count": null,
      "outputs": [
        {
          "output_type": "stream",
          "name": "stdout",
          "text": [
            "{0: 10, 1: 20, 2: 30}\n"
          ]
        }
      ]
    },
    {
      "cell_type": "markdown",
      "source": [
        "**10. Write a Pandas program to create and display a DataFrame from a specified dictionary data which has the index label.**"
      ],
      "metadata": {
        "id": "pfXk6EYrbUpo"
      }
    },
    {
      "cell_type": "code",
      "source": [
        "import pandas as pd\n",
        "import numpy as np     \n",
        "#given dictionary of data with labels\n",
        "exam_data = {'name': ['Arif', 'Asir', 'Arik', 'Anis', 'Anil', 'Ashish', 'Anahi', 'Alia', 'Alvin', 'Asim'],\n",
        "             'score': [12.5, 9, 16.5, 14, 9, 20, 14.5, 18, 8, 19],\n",
        "             'attempts': [1, 3, 2, 3, 2, 3, 1, 1, 2, 1],\n",
        "             'qualify': ['yes', 'no', 'yes', 'no', 'no', 'yes', 'yes', 'no', 'no', 'yes']}\n",
        "\n",
        "labels = ['a', 'b', 'c', 'd', 'e', 'f', 'g', 'h', 'i', 'j']\n",
        "\n",
        "#Converting into DataFrame\n",
        "df = pd.DataFrame(exam_data, index = labels)           \n",
        "\n",
        "print(df)"
      ],
      "metadata": {
        "id": "4yL5lVllFi43"
      },
      "execution_count": null,
      "outputs": []
    }
  ]
}